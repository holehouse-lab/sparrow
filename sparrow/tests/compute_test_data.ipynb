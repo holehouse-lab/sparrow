{
 "cells": [
  {
   "cell_type": "markdown",
   "id": "725f76f7",
   "metadata": {},
   "source": [
    "### Dictionary that recomputes the test_data "
   ]
  },
  {
   "cell_type": "code",
   "execution_count": 1,
   "id": "92383cc0",
   "metadata": {},
   "outputs": [],
   "source": []
  },
  {
   "cell_type": "code",
   "execution_count": 41,
   "id": "5494688b",
   "metadata": {},
   "outputs": [
    {
     "name": "stdout",
     "output_type": "stream",
     "text": [
      "0.43746367\n",
      "32.81683\n",
      "33.175683185378716\n",
      "81.15200236853273\n",
      "75.92058\n",
      "0.5773746\n",
      "5.815894\n"
     ]
    }
   ],
   "source": [
    "from sparrow import Protein\n",
    "\n",
    "P = Protein('MKYLAAYLLLNAAGNTPDATKIKAILESVGIEIEDEKVSSVLSALEGKSVDELITEGNEKLAAVPAAGPASAGGAAAASGDAAAEEEKEEEAAEESDDDMGFGLFD')\n",
    "\n",
    "print(P.predictor.asphericity())\n",
    "\n",
    "print(P.predictor.radius_of_gyration())\n",
    "print(P.predictor.radius_of_gyration(use_scaled=True))\n",
    "\n",
    "print(P.predictor.end_to_end_distance(use_scaled=True))\n",
    "print(P.predictor.end_to_end_distance(use_scaled=False))\n",
    "\n",
    "print(P.predictor.scaling_exponent())\n",
    "print(P.predictor.prefactor())\n",
    "from sparrow.data.amino_acids import VALID_AMINO_ACIDS\n"
   ]
  },
  {
   "cell_type": "code",
   "execution_count": 47,
   "id": "4e59d0a1",
   "metadata": {},
   "outputs": [],
   "source": [
    "from sparrow import Protein\n",
    "import pytest\n",
    "import protfasta\n",
    "import os\n",
    "\n",
    "current_filepath = os.getcwd()\n",
    "onehundred_seqs = \"{}/test_data/test_seqs_100.fasta\".format(current_filepath)\n",
    "\n",
    "seqs = protfasta.read_fasta(onehundred_seqs)\n"
   ]
  },
  {
   "cell_type": "code",
   "execution_count": 4,
   "id": "3ed4d1e5",
   "metadata": {},
   "outputs": [],
   "source": [
    "k2rg = {}\n",
    "for k in seqs:\n",
    "    k2rg[k] = Protein(seqs[k]).predictor.radius_of_gyration()\n",
    "\n",
    "np.save('test_data/test_100_rg_v2.npy', np.array(k2rg, dtype=dict))    "
   ]
  },
  {
   "cell_type": "code",
   "execution_count": 48,
   "id": "e71f57dd",
   "metadata": {},
   "outputs": [],
   "source": [
    "k2rg = {}\n",
    "for k in seqs:\n",
    "    k2rg[k] = Protein(seqs[k]).predictor.radius_of_gyration(use_scaled=True)\n",
    "\n",
    "np.save('test_data/test_100_rg_scaled_v2.npy', np.array(k2rg, dtype=dict))    "
   ]
  },
  {
   "cell_type": "code",
   "execution_count": 49,
   "id": "12872bec",
   "metadata": {},
   "outputs": [],
   "source": [
    "k2re = {}\n",
    "for k in seqs:\n",
    "    k2re[k] = Protein(seqs[k]).predictor.end_to_end_distance()\n",
    "\n",
    "np.save('test_data/test_100_re_v2.npy', np.array(k2re, dtype=dict))    "
   ]
  },
  {
   "cell_type": "code",
   "execution_count": 50,
   "id": "3bc0cd1a",
   "metadata": {},
   "outputs": [],
   "source": [
    "k2re = {}\n",
    "for k in seqs:\n",
    "    k2re[k] = Protein(seqs[k]).predictor.end_to_end_distance(use_scaled=True)\n",
    "\n",
    "np.save('test_data/test_100_re_scaled_v2.npy', np.array(k2re, dtype=dict))    "
   ]
  },
  {
   "cell_type": "code",
   "execution_count": 51,
   "id": "47f17564",
   "metadata": {},
   "outputs": [],
   "source": [
    "k2asph = {}\n",
    "for k in seqs:\n",
    "    k2asph[k] = Protein(seqs[k]).predictor.asphericity()\n",
    "\n",
    "np.save('test_data/test_100_asph_v2.npy', np.array(k2asph, dtype=dict))    "
   ]
  },
  {
   "cell_type": "code",
   "execution_count": 52,
   "id": "202cdc34",
   "metadata": {},
   "outputs": [],
   "source": [
    "k2scal_exp = {}\n",
    "for k in seqs:\n",
    "    k2scal_exp[k] = Protein(seqs[k]).predictor.scaling_exponent()\n",
    "\n",
    "np.save('test_data/test_100_exponent_v2.npy', np.array(k2scal_exp, dtype=dict))    "
   ]
  },
  {
   "cell_type": "code",
   "execution_count": 53,
   "id": "39eb54c0",
   "metadata": {},
   "outputs": [],
   "source": [
    "k2prefact = {}\n",
    "for k in seqs:\n",
    "    k2prefact[k] = Protein(seqs[k]).predictor.prefactor()\n",
    "\n",
    "np.save('test_data/test_100_prefactor_v2.npy', np.array(k2prefact, dtype=dict))    "
   ]
  },
  {
   "cell_type": "code",
   "execution_count": 3,
   "id": "f4d6bf39",
   "metadata": {},
   "outputs": [],
   "source": [
    "from sparrow.patterning import iwd"
   ]
  },
  {
   "cell_type": "code",
   "execution_count": 21,
   "id": "868afb92",
   "metadata": {},
   "outputs": [],
   "source": [
    "k2_average_bivariate_inverse_distance_charge = {}\n",
    "k2_average_inverse_distance_charge_neg = {}\n",
    "k2_average_inverse_distance_charge_pos = {}\n",
    "k2_average_inverse_distance_ali = {}\n",
    "\n",
    "for k in seqs:\n",
    "\n",
    "    local_seq = seqs[k]\n",
    "    \n",
    "    ncpr = Protein(seqs[k]).linear_sequence_profile('NCPR')\n",
    "    \n",
    "    k2_average_bivariate_inverse_distance_charge[k] = iwd.calculate_average_bivariate_inverse_distance_charge(ncpr, local_seq)\n",
    "    k2_average_inverse_distance_charge_neg[k] = iwd.calculate_average_inverse_distance_charge(ncpr, local_seq, '-')\n",
    "    k2_average_inverse_distance_charge_pos[k] = iwd.calculate_average_inverse_distance_charge(ncpr, local_seq, '+')\n",
    "    k2_average_inverse_distance_ali[k] = iwd.calculate_average_inverse_distance_from_sequence(local_seq, 'ILVAM')\n",
    "    \n",
    "    \n",
    "np.save('test_data/test_average_bivariate_inverse_distance_charge.npy', np.array(k2_average_bivariate_inverse_distance_charge, dtype=dict))        \n",
    "np.save('test_data/test_average_inverse_distance_charge_neg.npy', np.array(k2_average_inverse_distance_charge_neg, dtype=dict))        \n",
    "np.save('test_data/test_average_inverse_distance_charge_pos.npy', np.array(k2_average_inverse_distance_charge_pos, dtype=dict))        \n",
    "np.save('test_data/test_average_inverse_distance_ali.npy', np.array(k2_average_inverse_distance_ali, dtype=dict))        \n",
    "    \n",
    "    \n",
    "    "
   ]
  },
  {
   "cell_type": "code",
   "execution_count": 26,
   "id": "54a12190",
   "metadata": {},
   "outputs": [
    {
     "data": {
      "text/plain": [
       "0.27504330372096264"
      ]
     },
     "execution_count": 26,
     "metadata": {},
     "output_type": "execute_result"
    }
   ],
   "source": [
    "Protein('ALEPLEALELASEPLALELAEPDEKKAEPLAEPLAEKAKEPALE').compute_iwd"
   ]
  },
  {
   "cell_type": "code",
   "execution_count": null,
   "id": "52e332aa",
   "metadata": {},
   "outputs": [],
   "source": []
  }
 ],
 "metadata": {
  "kernelspec": {
   "display_name": "Python 3 (ipykernel)",
   "language": "python",
   "name": "python3"
  },
  "language_info": {
   "codemirror_mode": {
    "name": "ipython",
    "version": 3
   },
   "file_extension": ".py",
   "mimetype": "text/x-python",
   "name": "python",
   "nbconvert_exporter": "python",
   "pygments_lexer": "ipython3",
   "version": "3.8.12"
  }
 },
 "nbformat": 4,
 "nbformat_minor": 5
}

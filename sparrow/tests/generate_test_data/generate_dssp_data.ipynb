{
 "cells": [
  {
   "cell_type": "code",
   "execution_count": 5,
   "id": "7ed4999d",
   "metadata": {},
   "outputs": [],
   "source": [
    "from sparrow.predictors.dssp.dssp_predictor import DSSPPredictor\n",
    "import numpy as np\n",
    "import protfasta\n",
    "import pickle\n",
    "\n",
    "natural_proteins = protfasta.read_fasta('../test_data/test_seqs_100.fasta')\n",
    "\n"
   ]
  },
  {
   "cell_type": "markdown",
   "id": "bd85a2fe",
   "metadata": {},
   "source": [
    "### Helicity predictions"
   ]
  },
  {
   "cell_type": "code",
   "execution_count": null,
   "id": "8fb55756",
   "metadata": {},
   "outputs": [],
   "source": [
    "helicity_class = {}\n",
    "helicity_prob = {}\n",
    "\n",
    "X2 = DSSPPredictor(version=2)\n",
    "\n",
    "for k in natural_proteins:\n",
    "    s = natural_proteins[k]\n",
    "    helicity_class[k] = X2.predict_helicity_smart(s)\n",
    "    helicity_prob[k] = X2.predict_helical_probability(s)\n",
    "\n",
    "with open('../test_data/helicity_class_v2_default_test_seqs_100.pickle', 'wb') as f:\n",
    "    pickle.dump(helicity_class, f)    \n",
    "    \n",
    "with open('../test_data/helicity_prob_v2_default_test_seqs_100.pickle', 'wb') as f:\n",
    "    pickle.dump(helicity_prob, f)    "
   ]
  },
  {
   "cell_type": "code",
   "execution_count": 11,
   "id": "df8212b1",
   "metadata": {},
   "outputs": [],
   "source": [
    "extended_class = {}\n",
    "extended_prob = {}\n",
    "\n",
    "X2 = DSSPPredictor(version=2)\n",
    "\n",
    "for k in natural_proteins:\n",
    "    s = natural_proteins[k]\n",
    "    extended_class[k] = X2.predict_extended_smart(s)\n",
    "    extended_prob[k] = X2.predict_extended_probability(s)\n",
    "\n",
    "with open('../test_data/extended_class_v2_default_test_seqs_100.pickle', 'wb') as f:\n",
    "    pickle.dump(extended_class, f)    \n",
    "    \n",
    "with open('../test_data/extended_prob_v2_default_test_seqs_100.pickle', 'wb') as f:\n",
    "    pickle.dump(extended_prob, f)    "
   ]
  },
  {
   "cell_type": "code",
   "execution_count": 12,
   "id": "19e8e03a",
   "metadata": {},
   "outputs": [],
   "source": [
    "coil_class = {}\n",
    "coil_prob = {}\n",
    "\n",
    "X2 = DSSPPredictor(version=2)\n",
    "\n",
    "for k in natural_proteins:\n",
    "    s = natural_proteins[k]\n",
    "    coil_class[k] = X2.predict_coil_smart(s)\n",
    "    coil_prob[k] = X2.predict_coil_probability(s)\n",
    "\n",
    "with open('../test_data/coil_class_v2_default_test_seqs_100.pickle', 'wb') as f:\n",
    "    pickle.dump(coil_class, f)    \n",
    "    \n",
    "with open('../test_data/coil_prob_v2_default_test_seqs_100.pickle', 'wb') as f:\n",
    "    pickle.dump(coil_prob, f)    "
   ]
  },
  {
   "cell_type": "code",
   "execution_count": 26,
   "id": "3e6009af",
   "metadata": {},
   "outputs": [
    {
     "data": {
      "text/plain": [
       "2"
      ]
     },
     "execution_count": 26,
     "metadata": {},
     "output_type": "execute_result"
    }
   ],
   "source": []
  },
  {
   "cell_type": "code",
   "execution_count": 27,
   "id": "de8acdef",
   "metadata": {},
   "outputs": [],
   "source": [
    "helicity_class = {}\n",
    "\n",
    "X2 = DSSPPredictor(version=2)\n",
    "\n",
    "for k in natural_proteins:\n",
    "    s = natural_proteins[k]\n",
    "    \n",
    "    thresh = np.random.random()\n",
    "    minlen = np.random.randint(1,13)\n",
    "    \n",
    "    tmp = X2.predict_helicity_smart(s, threshold=thresh, minlen=minlen)\n",
    "    \n",
    "    helicity_class[k] = [thresh, minlen, tmp]\n",
    "\n",
    "with open('../test_data/helicity_class_v2_non_default_test_seqs_100.pickle', 'wb') as f:\n",
    "    pickle.dump(helicity_class, f)    \n",
    "    \n"
   ]
  },
  {
   "cell_type": "code",
   "execution_count": 29,
   "id": "fa066997",
   "metadata": {},
   "outputs": [],
   "source": [
    "extended_class = {}\n",
    "\n",
    "X2 = DSSPPredictor(version=2)\n",
    "\n",
    "for k in natural_proteins:\n",
    "    s = natural_proteins[k]\n",
    "    \n",
    "    thresh = np.random.random()\n",
    "    minlen = np.random.randint(1,13)\n",
    "    \n",
    "    tmp = X2.predict_extended_smart(s, threshold=thresh, minlen=minlen)\n",
    "    \n",
    "    extended_class[k] = [thresh, minlen, tmp]\n",
    "\n",
    "with open('../test_data/extended_class_v2_non_default_test_seqs_100.pickle', 'wb') as f:\n",
    "    pickle.dump(extended_class, f)    \n",
    "    \n"
   ]
  },
  {
   "cell_type": "code",
   "execution_count": null,
   "id": "246340b5",
   "metadata": {},
   "outputs": [],
   "source": [
    "coil_class = {}\n",
    "\n",
    "X2 = DSSPPredictor(version=2)\n",
    "\n",
    "for k in natural_proteins:\n",
    "    s = natural_proteins[k]\n",
    "    \n",
    "    thresh = np.random.random()\n",
    "    minlen = np.random.randint(1,13)\n",
    "    \n",
    "    tmp = X2.predict_coil_smart(s, threshold=thresh, minlen=minlen)\n",
    "    \n",
    "    coil_class[k] = [thresh, minlen, tmp]\n",
    "\n",
    "with open('../test_data/coil_class_v2_non_default_test_seqs_100.pickle', 'wb') as f:\n",
    "    pickle.dump(coil_class, f)    \n",
    "    \n"
   ]
  },
  {
   "cell_type": "code",
   "execution_count": null,
   "id": "47253d4f",
   "metadata": {},
   "outputs": [],
   "source": []
  }
 ],
 "metadata": {
  "kernelspec": {
   "display_name": "Python 3 (ipykernel)",
   "language": "python",
   "name": "python3"
  },
  "language_info": {
   "codemirror_mode": {
    "name": "ipython",
    "version": 3
   },
   "file_extension": ".py",
   "mimetype": "text/x-python",
   "name": "python",
   "nbconvert_exporter": "python",
   "pygments_lexer": "ipython3",
   "version": "3.8.12"
  }
 },
 "nbformat": 4,
 "nbformat_minor": 5
}
